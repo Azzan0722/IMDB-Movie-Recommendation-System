{
 "cells": [
  {
   "cell_type": "code",
   "execution_count": 1,
   "id": "e54091e6",
   "metadata": {},
   "outputs": [
    {
     "name": "stdout",
     "output_type": "stream",
     "text": [
      "Scraping: https://www.imdb.com/search/title/?genres=drama&start=1&explore=title_type,genres\n",
      "Scraping: https://www.imdb.com/search/title/?genres=drama&start=51&explore=title_type,genres\n",
      "Scraping: https://www.imdb.com/search/title/?genres=drama&start=101&explore=title_type,genres\n",
      "Scraping: https://www.imdb.com/search/title/?genres=drama&start=151&explore=title_type,genres\n",
      "Scraping: https://www.imdb.com/search/title/?genres=drama&start=201&explore=title_type,genres\n",
      "Scraping: https://www.imdb.com/search/title/?genres=drama&start=251&explore=title_type,genres\n",
      "Scraping: https://www.imdb.com/search/title/?genres=drama&start=301&explore=title_type,genres\n",
      "Scraping: https://www.imdb.com/search/title/?genres=drama&start=351&explore=title_type,genres\n",
      "Scraping: https://www.imdb.com/search/title/?genres=drama&start=401&explore=title_type,genres\n",
      "Scraping: https://www.imdb.com/search/title/?genres=drama&start=451&explore=title_type,genres\n",
      "Scraping: https://www.imdb.com/search/title/?genres=drama&start=501&explore=title_type,genres\n",
      "Scraping: https://www.imdb.com/search/title/?genres=drama&start=551&explore=title_type,genres\n",
      "Scraping: https://www.imdb.com/search/title/?genres=drama&start=601&explore=title_type,genres\n",
      "Scraping: https://www.imdb.com/search/title/?genres=drama&start=651&explore=title_type,genres\n",
      "Scraping: https://www.imdb.com/search/title/?genres=drama&start=701&explore=title_type,genres\n",
      "Scraping: https://www.imdb.com/search/title/?genres=drama&start=751&explore=title_type,genres\n",
      "Scraping: https://www.imdb.com/search/title/?genres=drama&start=801&explore=title_type,genres\n",
      "Scraping: https://www.imdb.com/search/title/?genres=drama&start=851&explore=title_type,genres\n",
      "Scraping: https://www.imdb.com/search/title/?genres=drama&start=901&explore=title_type,genres\n",
      "Scraping: https://www.imdb.com/search/title/?genres=drama&start=951&explore=title_type,genres\n",
      "Scraping: https://www.imdb.com/search/title/?genres=drama&start=1001&explore=title_type,genres\n",
      "Scraping: https://www.imdb.com/search/title/?genres=drama&start=1051&explore=title_type,genres\n",
      "Scraping: https://www.imdb.com/search/title/?genres=drama&start=1101&explore=title_type,genres\n",
      "Scraping: https://www.imdb.com/search/title/?genres=drama&start=1151&explore=title_type,genres\n",
      "Scraping: https://www.imdb.com/search/title/?genres=drama&start=1201&explore=title_type,genres\n",
      "Scraping: https://www.imdb.com/search/title/?genres=drama&start=1251&explore=title_type,genres\n",
      "Scraping: https://www.imdb.com/search/title/?genres=drama&start=1301&explore=title_type,genres\n",
      "Scraping: https://www.imdb.com/search/title/?genres=drama&start=1351&explore=title_type,genres\n",
      "Scraping: https://www.imdb.com/search/title/?genres=drama&start=1401&explore=title_type,genres\n",
      "Scraping: https://www.imdb.com/search/title/?genres=drama&start=1451&explore=title_type,genres\n",
      "Scraping: https://www.imdb.com/search/title/?genres=drama&start=1501&explore=title_type,genres\n",
      "Scraping: https://www.imdb.com/search/title/?genres=drama&start=1551&explore=title_type,genres\n",
      "Scraping: https://www.imdb.com/search/title/?genres=drama&start=1601&explore=title_type,genres\n",
      "Scraping: https://www.imdb.com/search/title/?genres=drama&start=1651&explore=title_type,genres\n",
      "Scraping: https://www.imdb.com/search/title/?genres=drama&start=1701&explore=title_type,genres\n",
      "Scraping: https://www.imdb.com/search/title/?genres=drama&start=1751&explore=title_type,genres\n",
      "Scraping: https://www.imdb.com/search/title/?genres=drama&start=1801&explore=title_type,genres\n",
      "Scraping: https://www.imdb.com/search/title/?genres=drama&start=1851&explore=title_type,genres\n",
      "Scraping: https://www.imdb.com/search/title/?genres=drama&start=1901&explore=title_type,genres\n",
      "Scraping: https://www.imdb.com/search/title/?genres=drama&start=1951&explore=title_type,genres\n",
      "Scraping: https://www.imdb.com/search/title/?genres=drama&start=2001&explore=title_type,genres\n",
      "Scraping: https://www.imdb.com/search/title/?genres=drama&start=2051&explore=title_type,genres\n",
      "Scraping: https://www.imdb.com/search/title/?genres=drama&start=2101&explore=title_type,genres\n",
      "Scraping: https://www.imdb.com/search/title/?genres=drama&start=2151&explore=title_type,genres\n",
      "Scraping: https://www.imdb.com/search/title/?genres=drama&start=2201&explore=title_type,genres\n",
      "Scraping: https://www.imdb.com/search/title/?genres=drama&start=2251&explore=title_type,genres\n",
      "Scraping: https://www.imdb.com/search/title/?genres=drama&start=2301&explore=title_type,genres\n",
      "Scraping: https://www.imdb.com/search/title/?genres=drama&start=2351&explore=title_type,genres\n",
      "Scraping: https://www.imdb.com/search/title/?genres=drama&start=2401&explore=title_type,genres\n",
      "Scraping: https://www.imdb.com/search/title/?genres=drama&start=2451&explore=title_type,genres\n",
      "Scraping: https://www.imdb.com/search/title/?genres=drama&start=2501&explore=title_type,genres\n",
      "Scraping: https://www.imdb.com/search/title/?genres=drama&start=2551&explore=title_type,genres\n",
      "Scraping: https://www.imdb.com/search/title/?genres=drama&start=2601&explore=title_type,genres\n",
      "Scraping: https://www.imdb.com/search/title/?genres=drama&start=2651&explore=title_type,genres\n",
      "Scraping: https://www.imdb.com/search/title/?genres=drama&start=2701&explore=title_type,genres\n",
      "Scraping: https://www.imdb.com/search/title/?genres=drama&start=2751&explore=title_type,genres\n",
      "Scraping: https://www.imdb.com/search/title/?genres=drama&start=2801&explore=title_type,genres\n",
      "Scraping: https://www.imdb.com/search/title/?genres=drama&start=2851&explore=title_type,genres\n",
      "Scraping: https://www.imdb.com/search/title/?genres=drama&start=2901&explore=title_type,genres\n",
      "Scraping: https://www.imdb.com/search/title/?genres=drama&start=2951&explore=title_type,genres\n",
      "Scraping: https://www.imdb.com/search/title/?genres=drama&start=3001&explore=title_type,genres\n",
      "Scraping: https://www.imdb.com/search/title/?genres=drama&start=3051&explore=title_type,genres\n",
      "Scraping: https://www.imdb.com/search/title/?genres=drama&start=3101&explore=title_type,genres\n",
      "Scraping: https://www.imdb.com/search/title/?genres=drama&start=3151&explore=title_type,genres\n",
      "Scraping: https://www.imdb.com/search/title/?genres=drama&start=3201&explore=title_type,genres\n",
      "Scraping: https://www.imdb.com/search/title/?genres=drama&start=3251&explore=title_type,genres\n",
      "Scraping: https://www.imdb.com/search/title/?genres=drama&start=3301&explore=title_type,genres\n",
      "Scraping: https://www.imdb.com/search/title/?genres=drama&start=3351&explore=title_type,genres\n",
      "Scraping: https://www.imdb.com/search/title/?genres=drama&start=3401&explore=title_type,genres\n",
      "Scraping: https://www.imdb.com/search/title/?genres=drama&start=3451&explore=title_type,genres\n",
      "Scraping: https://www.imdb.com/search/title/?genres=drama&start=3501&explore=title_type,genres\n",
      "Scraping: https://www.imdb.com/search/title/?genres=drama&start=3551&explore=title_type,genres\n",
      "Scraping: https://www.imdb.com/search/title/?genres=drama&start=3601&explore=title_type,genres\n"
     ]
    },
    {
     "ename": "InvalidSessionIdException",
     "evalue": "Message: invalid session id; For documentation on this error, please visit: https://www.selenium.dev/documentation/webdriver/troubleshooting/errors#invalidsessionidexception\nStacktrace:\n\tGetHandleVerifier [0x0x107a8a3+63283]\n\tGetHandleVerifier [0x0x107a8e4+63348]\n\t(No symbol) [0x0xeb3ca0]\n\t(No symbol) [0x0xeefb48]\n\t(No symbol) [0x0xf212d6]\n\t(No symbol) [0x0xf1ceb5]\n\t(No symbol) [0x0xf1c436]\n\t(No symbol) [0x0xe85755]\n\t(No symbol) [0x0xe85cae]\n\t(No symbol) [0x0xe8613d]\n\tGetHandleVerifier [0x0x12ebb43+2623955]\n\tGetHandleVerifier [0x0x12e6daa+2604090]\n\tGetHandleVerifier [0x0x10a069a+218410]\n\tGetHandleVerifier [0x0x1090ed8+154984]\n\tGetHandleVerifier [0x0x109742d+180925]\n\t(No symbol) [0x0xe85420]\n\t(No symbol) [0x0xe84c36]\n\tGetHandleVerifier [0x0x14268fc+3913612]\n\tBaseThreadInitThunk [0x0x7644fcc9+25]\n\tRtlGetAppContainerNamedObjectPath [0x0x77dc82ae+286]\n\tRtlGetAppContainerNamedObjectPath [0x0x77dc827e+238]\n",
     "output_type": "error",
     "traceback": [
      "\u001b[1;31m---------------------------------------------------------------------------\u001b[0m",
      "\u001b[1;31mInvalidSessionIdException\u001b[0m                 Traceback (most recent call last)",
      "Cell \u001b[1;32mIn[1], line 26\u001b[0m\n\u001b[0;32m     24\u001b[0m url \u001b[38;5;241m=\u001b[39m base_url\u001b[38;5;241m.\u001b[39mformat(start)\n\u001b[0;32m     25\u001b[0m \u001b[38;5;28mprint\u001b[39m(\u001b[38;5;124mf\u001b[39m\u001b[38;5;124m\"\u001b[39m\u001b[38;5;124mScraping: \u001b[39m\u001b[38;5;132;01m{\u001b[39;00murl\u001b[38;5;132;01m}\u001b[39;00m\u001b[38;5;124m\"\u001b[39m)\n\u001b[1;32m---> 26\u001b[0m driver\u001b[38;5;241m.\u001b[39mget(url)\n\u001b[0;32m     27\u001b[0m time\u001b[38;5;241m.\u001b[39msleep(\u001b[38;5;241m3\u001b[39m)\n\u001b[0;32m     29\u001b[0m \u001b[38;5;66;03m# Find all movie containers on current page\u001b[39;00m\n",
      "File \u001b[1;32m~\\.anaconda\\Lib\\site-packages\\selenium\\webdriver\\remote\\webdriver.py:479\u001b[0m, in \u001b[0;36mWebDriver.get\u001b[1;34m(self, url)\u001b[0m\n\u001b[0;32m    461\u001b[0m \u001b[38;5;28;01mdef\u001b[39;00m \u001b[38;5;21mget\u001b[39m(\u001b[38;5;28mself\u001b[39m, url: \u001b[38;5;28mstr\u001b[39m) \u001b[38;5;241m-\u001b[39m\u001b[38;5;241m>\u001b[39m \u001b[38;5;28;01mNone\u001b[39;00m:\n\u001b[0;32m    462\u001b[0m \u001b[38;5;250m    \u001b[39m\u001b[38;5;124;03m\"\"\"Navigate the browser to the specified URL in the current window or\u001b[39;00m\n\u001b[0;32m    463\u001b[0m \u001b[38;5;124;03m    tab.\u001b[39;00m\n\u001b[0;32m    464\u001b[0m \n\u001b[1;32m   (...)\u001b[0m\n\u001b[0;32m    477\u001b[0m \u001b[38;5;124;03m    >>> driver.get(\"https://example.com\")\u001b[39;00m\n\u001b[0;32m    478\u001b[0m \u001b[38;5;124;03m    \"\"\"\u001b[39;00m\n\u001b[1;32m--> 479\u001b[0m     \u001b[38;5;28mself\u001b[39m\u001b[38;5;241m.\u001b[39mexecute(Command\u001b[38;5;241m.\u001b[39mGET, {\u001b[38;5;124m\"\u001b[39m\u001b[38;5;124murl\u001b[39m\u001b[38;5;124m\"\u001b[39m: url})\n",
      "File \u001b[1;32m~\\.anaconda\\Lib\\site-packages\\selenium\\webdriver\\remote\\webdriver.py:454\u001b[0m, in \u001b[0;36mWebDriver.execute\u001b[1;34m(self, driver_command, params)\u001b[0m\n\u001b[0;32m    451\u001b[0m response \u001b[38;5;241m=\u001b[39m cast(RemoteConnection, \u001b[38;5;28mself\u001b[39m\u001b[38;5;241m.\u001b[39mcommand_executor)\u001b[38;5;241m.\u001b[39mexecute(driver_command, params)\n\u001b[0;32m    453\u001b[0m \u001b[38;5;28;01mif\u001b[39;00m response:\n\u001b[1;32m--> 454\u001b[0m     \u001b[38;5;28mself\u001b[39m\u001b[38;5;241m.\u001b[39merror_handler\u001b[38;5;241m.\u001b[39mcheck_response(response)\n\u001b[0;32m    455\u001b[0m     response[\u001b[38;5;124m\"\u001b[39m\u001b[38;5;124mvalue\u001b[39m\u001b[38;5;124m\"\u001b[39m] \u001b[38;5;241m=\u001b[39m \u001b[38;5;28mself\u001b[39m\u001b[38;5;241m.\u001b[39m_unwrap_value(response\u001b[38;5;241m.\u001b[39mget(\u001b[38;5;124m\"\u001b[39m\u001b[38;5;124mvalue\u001b[39m\u001b[38;5;124m\"\u001b[39m, \u001b[38;5;28;01mNone\u001b[39;00m))\n\u001b[0;32m    456\u001b[0m     \u001b[38;5;28;01mreturn\u001b[39;00m response\n",
      "File \u001b[1;32m~\\.anaconda\\Lib\\site-packages\\selenium\\webdriver\\remote\\errorhandler.py:232\u001b[0m, in \u001b[0;36mErrorHandler.check_response\u001b[1;34m(self, response)\u001b[0m\n\u001b[0;32m    230\u001b[0m         alert_text \u001b[38;5;241m=\u001b[39m value[\u001b[38;5;124m\"\u001b[39m\u001b[38;5;124malert\u001b[39m\u001b[38;5;124m\"\u001b[39m]\u001b[38;5;241m.\u001b[39mget(\u001b[38;5;124m\"\u001b[39m\u001b[38;5;124mtext\u001b[39m\u001b[38;5;124m\"\u001b[39m)\n\u001b[0;32m    231\u001b[0m     \u001b[38;5;28;01mraise\u001b[39;00m exception_class(message, screen, stacktrace, alert_text)  \u001b[38;5;66;03m# type: ignore[call-arg]  # mypy is not smart enough here\u001b[39;00m\n\u001b[1;32m--> 232\u001b[0m \u001b[38;5;28;01mraise\u001b[39;00m exception_class(message, screen, stacktrace)\n",
      "\u001b[1;31mInvalidSessionIdException\u001b[0m: Message: invalid session id; For documentation on this error, please visit: https://www.selenium.dev/documentation/webdriver/troubleshooting/errors#invalidsessionidexception\nStacktrace:\n\tGetHandleVerifier [0x0x107a8a3+63283]\n\tGetHandleVerifier [0x0x107a8e4+63348]\n\t(No symbol) [0x0xeb3ca0]\n\t(No symbol) [0x0xeefb48]\n\t(No symbol) [0x0xf212d6]\n\t(No symbol) [0x0xf1ceb5]\n\t(No symbol) [0x0xf1c436]\n\t(No symbol) [0x0xe85755]\n\t(No symbol) [0x0xe85cae]\n\t(No symbol) [0x0xe8613d]\n\tGetHandleVerifier [0x0x12ebb43+2623955]\n\tGetHandleVerifier [0x0x12e6daa+2604090]\n\tGetHandleVerifier [0x0x10a069a+218410]\n\tGetHandleVerifier [0x0x1090ed8+154984]\n\tGetHandleVerifier [0x0x109742d+180925]\n\t(No symbol) [0x0xe85420]\n\t(No symbol) [0x0xe84c36]\n\tGetHandleVerifier [0x0x14268fc+3913612]\n\tBaseThreadInitThunk [0x0x7644fcc9+25]\n\tRtlGetAppContainerNamedObjectPath [0x0x77dc82ae+286]\n\tRtlGetAppContainerNamedObjectPath [0x0x77dc827e+238]\n"
     ]
    }
   ],
   "source": [
    "import time\n",
    "import pandas as pd\n",
    "from selenium import webdriver\n",
    "from selenium.webdriver.common.by import By\n",
    "from selenium.webdriver.chrome.service import Service\n",
    "from webdriver_manager.chrome import ChromeDriverManager\n",
    "import re\n",
    "\n",
    "# Setup WebDriver\n",
    "options = webdriver.ChromeOptions()\n",
    "options.add_argument(\"--start-maximized\")\n",
    "driver = webdriver.Chrome(service=Service(ChromeDriverManager().install()), options=options)\n",
    "\n",
    "# IMDb URL - Change to your target search / genre page\n",
    "base_url = \"https://www.imdb.com/search/title/?genres=drama&start={}&explore=title_type,genres\"\n",
    "\n",
    "movie_names = []\n",
    "storylines = []\n",
    "\n",
    "# Start from page 1\n",
    "start = 1\n",
    "\n",
    "while True:\n",
    "    url = base_url.format(start)\n",
    "    print(f\"Scraping: {url}\")\n",
    "    driver.get(url)\n",
    "    time.sleep(3)\n",
    "\n",
    "    # Find all movie containers on current page\n",
    "    movies = driver.find_elements(By.XPATH, '//li[@class=\"ipc-metadata-list-summary-item\"]')\n",
    "\n",
    "    # If no movies found, we reached the last page → break loop\n",
    "    if not movies:\n",
    "        print(\"Reached the end of pages.\")\n",
    "        break\n",
    "\n",
    "    for movie in movies:\n",
    "        # Extract movie title\n",
    "        try:\n",
    "            title_text = movie.find_element(By.XPATH, './/h3[contains(@class,\"ipc-title__text\")]').text\n",
    "            # Remove number prefix (e.g., \"1. The Shawshank Redemption\" → \"The Shawshank Redemption\")\n",
    "            title = re.sub(r\"^\\d+\\.\\s*\", \"\", title_text)\n",
    "        except:\n",
    "            title = \"N/A\"\n",
    "\n",
    "        # Extract storyline / description\n",
    "        try:\n",
    "            storyline = movie.find_element(By.XPATH, './/div[contains(@class,\"ipc-html-content-inner-div\")]').text\n",
    "        except:\n",
    "            storyline = \"N/A\"\n",
    "\n",
    "        movie_names.append(title)\n",
    "        storylines.append(storyline)\n",
    "\n",
    "    # Go to next page → IMDb shows 50 movies per page\n",
    "    start += 50\n",
    "\n",
    "# Save all scraped data into CSV\n",
    "df = pd.DataFrame({\"Movie Name\": movie_names, \"Storyline\": storylines})\n",
    "df.to_csv(\"imdb_all_movies_storylines.csv\", index=False, encoding=\"utf-8\")\n",
    "print(f\"✅ Scraped {len(df)} movies successfully!\")\n",
    "\n",
    "driver.quit()\n"
   ]
  },
  {
   "cell_type": "code",
   "execution_count": null,
   "id": "b01c7488",
   "metadata": {},
   "outputs": [],
   "source": []
  },
  {
   "cell_type": "code",
   "execution_count": 2,
   "id": "70609fe6",
   "metadata": {},
   "outputs": [
    {
     "name": "stdout",
     "output_type": "stream",
     "text": [
      "CSV saved at: C:\\Users\\Hp\\Downloads\\IMDB_recommendation_system-main\\IMDB_recommendation_system-main\\imdb_all_movies_storylines.csv\n"
     ]
    }
   ],
   "source": [
    "import os\n",
    "file_path = os.path.abspath(\"imdb_all_movies_storylines.csv\")\n",
    "print(f\"CSV saved at: {file_path}\")\n"
   ]
  },
  {
   "cell_type": "code",
   "execution_count": 3,
   "id": "f994035f",
   "metadata": {},
   "outputs": [
    {
     "name": "stdout",
     "output_type": "stream",
     "text": [
      "📂 File saved at: C:\\Users\\Hp\\Downloads\\IMDB_recommendation_system-main\\IMDB_recommendation_system-main\\imdb_all_movies_storylines.csv\n"
     ]
    }
   ],
   "source": [
    "import os\n",
    "\n",
    "file_path = os.path.abspath(\"imdb_all_movies_storylines.csv\")\n",
    "print(f\"📂 File saved at: {file_path}\")\n"
   ]
  },
  {
   "cell_type": "code",
   "execution_count": 4,
   "id": "46113fc9",
   "metadata": {},
   "outputs": [
    {
     "name": "stdout",
     "output_type": "stream",
     "text": [
      "📂 CSV saved at: C:\\Users\\Hp\\Downloads\\IMDB_recommendation_system-main\\IMDB_recommendation_system-main\\imdb_storylines.csv\n",
      "📊 Total movies saved: 3600\n",
      "                     Movie Name  \\\n",
      "0          Dexter: Resurrection   \n",
      "1                 Thunderbolts*   \n",
      "2  The Terminal List: Dark Wolf   \n",
      "3                       Hostage   \n",
      "4                 F1: The Movie   \n",
      "\n",
      "                                           Storyline  \n",
      "0  Dexter Morgan awakens from a coma and sets out...  \n",
      "1  After finding themselves ensnared in a death t...  \n",
      "2  Navy SEAL Ben Edwards' abrupt discharge from t...  \n",
      "3  When the PM's husband is kidnapped and the vis...  \n",
      "4  A Formula One driver comes out of retirement t...  \n"
     ]
    }
   ],
   "source": [
    "import os\n",
    "import pandas as pd\n",
    "\n",
    "# Create DataFrame from scraped data\n",
    "df = pd.DataFrame({\"Movie Name\": movie_names, \"Storyline\": storylines})\n",
    "\n",
    "# Save CSV\n",
    "df.to_csv(\"imdb_storylines.csv\", index=False, encoding=\"utf-8\")\n",
    "\n",
    "# ✅ Check saved file path and number of movies\n",
    "file_path = os.path.abspath(\"imdb_storylines.csv\")\n",
    "print(f\"📂 CSV saved at: {file_path}\")\n",
    "print(f\"📊 Total movies saved: {len(df)}\")\n",
    "\n",
    "# Optional: print first 5 rows to verify\n",
    "print(df.head())\n"
   ]
  },
  {
   "cell_type": "markdown",
   "id": "0acdf3d6",
   "metadata": {},
   "source": [
    "## Preprocessing using NLP"
   ]
  },
  {
   "cell_type": "code",
   "execution_count": 5,
   "id": "a0d0e518",
   "metadata": {},
   "outputs": [
    {
     "name": "stdout",
     "output_type": "stream",
     "text": [
      "0             Dexter: Resurrection\n",
      "1                    Thunderbolts*\n",
      "2     The Terminal List: Dark Wolf\n",
      "3                          Hostage\n",
      "4                    F1: The Movie\n",
      "5       The Summer I Turned Pretty\n",
      "6     My Life with the Walter Boys\n",
      "7                           Dexter\n",
      "8                  Game of Thrones\n",
      "9                 King & Conqueror\n",
      "10                    Breaking Bad\n",
      "11                      Foundation\n",
      "12                    Eenie Meanie\n",
      "13               The Terminal List\n",
      "14                         Fallout\n",
      "15                   Twisted Metal\n",
      "16                      Two Graves\n",
      "17                         Sinners\n",
      "18                         Untamed\n",
      "19                         Dept. Q\n",
      "Name: Movie Name, dtype: object\n"
     ]
    }
   ],
   "source": [
    "print(df['Movie Name'].head(20))\n"
   ]
  },
  {
   "cell_type": "code",
   "execution_count": 6,
   "id": "04df500f",
   "metadata": {},
   "outputs": [],
   "source": [
    "# 1. Import Libraries\n",
    "# ================================\n",
    "import pandas as pd\n",
    "import re\n",
    "from sklearn.feature_extraction.text import TfidfVectorizer, CountVectorizer, ENGLISH_STOP_WORDS\n",
    "from sklearn.metrics.pairwise import cosine_similarity"
   ]
  },
  {
   "cell_type": "code",
   "execution_count": 7,
   "id": "33963341",
   "metadata": {},
   "outputs": [
    {
     "name": "stdout",
     "output_type": "stream",
     "text": [
      "Dataset Shape: (3550, 2)\n",
      "                          title  \\\n",
      "0          Dexter: Resurrection   \n",
      "1                 Thunderbolts*   \n",
      "2  The Terminal List: Dark Wolf   \n",
      "\n",
      "                                            overview  \n",
      "0  Dexter Morgan awakens from a coma and sets out...  \n",
      "1  After finding themselves ensnared in a death t...  \n",
      "2  Navy SEAL Ben Edwards' abrupt discharge from t...  \n"
     ]
    }
   ],
   "source": [
    "# 2️⃣ Load Dataset & Rename Columns\n",
    "# ================================\n",
    "df = pd.read_csv(\"imdb_storylines.csv\")\n",
    "df = df[['Movie Name', 'Storyline']].dropna().reset_index(drop=True)\n",
    "df.rename(columns={'Movie Name': 'title', 'Storyline': 'overview'}, inplace=True)\n",
    "\n",
    "print(\"Dataset Shape:\", df.shape)\n",
    "print(df.head(3))"
   ]
  },
  {
   "cell_type": "code",
   "execution_count": 8,
   "id": "c16a5285",
   "metadata": {},
   "outputs": [
    {
     "name": "stdout",
     "output_type": "stream",
     "text": [
      "Original rows: 3600\n",
      "Rows after removing duplicates: 51\n",
      "✅ Cleaned CSV saved as 'imdb_storylines_cleaned.csv'\n"
     ]
    }
   ],
   "source": [
    "import pandas as pd\n",
    "\n",
    "# Load your CSV\n",
    "df = pd.read_csv(\"imdb_storylines.csv\")\n",
    "\n",
    "# Remove exact duplicates based on both 'Movie Name' and 'Storyline'\n",
    "df_clean = df.drop_duplicates(subset=['Movie Name', 'Storyline']).reset_index(drop=True)\n",
    "\n",
    "print(\"Original rows:\", df.shape[0])\n",
    "print(\"Rows after removing duplicates:\", df_clean.shape[0])\n",
    "\n",
    "# Save cleaned CSV\n",
    "df_clean.to_csv(\"imdb_storylines_cleaned.csv\", index=False)\n",
    "print(\"✅ Cleaned CSV saved as 'imdb_storylines_cleaned.csv'\")\n"
   ]
  },
  {
   "cell_type": "code",
   "execution_count": 9,
   "id": "78a31777",
   "metadata": {},
   "outputs": [
    {
     "name": "stdout",
     "output_type": "stream",
     "text": [
      "Dataset Shape: (50, 2)\n",
      "                          title  \\\n",
      "0          Dexter: Resurrection   \n",
      "1                 Thunderbolts*   \n",
      "2  The Terminal List: Dark Wolf   \n",
      "\n",
      "                                            overview  \n",
      "0  Dexter Morgan awakens from a coma and sets out...  \n",
      "1  After finding themselves ensnared in a death t...  \n",
      "2  Navy SEAL Ben Edwards' abrupt discharge from t...  \n"
     ]
    }
   ],
   "source": [
    "# 2️⃣ Load Dataset & Rename Columns\n",
    "# ================================\n",
    "df = pd.read_csv(\"imdb_storylines_cleaned.csv\")\n",
    "df = df[['Movie Name', 'Storyline']].dropna().reset_index(drop=True)\n",
    "df.rename(columns={'Movie Name': 'title', 'Storyline': 'overview'}, inplace=True)\n",
    "\n",
    "print(\"Dataset Shape:\", df.shape)\n",
    "print(df.head(3))"
   ]
  },
  {
   "cell_type": "code",
   "execution_count": 10,
   "id": "620cec10",
   "metadata": {},
   "outputs": [
    {
     "name": "stdout",
     "output_type": "stream",
     "text": [
      "Total unique movies: 50\n",
      "                          title  \\\n",
      "0          Dexter: Resurrection   \n",
      "1                 Thunderbolts*   \n",
      "2  The Terminal List: Dark Wolf   \n",
      "\n",
      "                                            overview  \n",
      "0  Dexter Morgan awakens from a coma and sets out...  \n",
      "1  After finding themselves ensnared in a death t...  \n",
      "2  Navy SEAL Ben Edwards' abrupt discharge from t...  \n"
     ]
    }
   ],
   "source": [
    "print(\"Total unique movies:\", df.shape[0])\n",
    "print(df.head(3))"
   ]
  },
  {
   "cell_type": "code",
   "execution_count": 11,
   "id": "3ff9df82",
   "metadata": {},
   "outputs": [],
   "source": [
    "# 3️⃣ Text Cleaning Function\n",
    "STOP_WORDS = set(ENGLISH_STOP_WORDS)\n",
    "\n",
    "def clean_text(text: str) -> str:\n",
    "    if not isinstance(text, str):\n",
    "        return \"\"\n",
    "    text = text.lower()\n",
    "    text = re.sub(r\"[^a-z\\s]\", \" \", text)\n",
    "    tokens = text.split()\n",
    "    tokens = [t for t in tokens if t not in STOP_WORDS and len(t) > 2]\n",
    "    return \" \".join(tokens)"
   ]
  },
  {
   "cell_type": "code",
   "execution_count": 12,
   "id": "b26b156c",
   "metadata": {},
   "outputs": [
    {
     "name": "stdout",
     "output_type": "stream",
     "text": [
      "\n",
      "Sample cleaned overview:\n",
      "                          title  \\\n",
      "0          Dexter: Resurrection   \n",
      "1                 Thunderbolts*   \n",
      "2  The Terminal List: Dark Wolf   \n",
      "\n",
      "                                      clean_overview  \n",
      "0  dexter morgan awakens coma sets new york city ...  \n",
      "1  finding ensnared death trap unconventional tea...  \n",
      "2  navy seal ben edwards abrupt discharge militar...  \n"
     ]
    }
   ],
   "source": [
    "# Apply cleaning\n",
    "df['clean_overview'] = df['overview'].apply(clean_text)\n",
    "print(\"\\nSample cleaned overview:\")\n",
    "print(df[['title', 'clean_overview']].head(3))"
   ]
  },
  {
   "cell_type": "code",
   "execution_count": 13,
   "id": "5ecb1ec1",
   "metadata": {},
   "outputs": [],
   "source": [
    "# 4️⃣ TF-IDF Vectorization\n",
    "tfidf = TfidfVectorizer(max_features=5000, ngram_range=(1,2))\n",
    "tfidf_matrix = tfidf.fit_transform(df['clean_overview'])"
   ]
  },
  {
   "cell_type": "code",
   "execution_count": 14,
   "id": "d34a71a2",
   "metadata": {},
   "outputs": [],
   "source": [
    "# 5️⃣ Cosine Similarity\n",
    "cosine_sim = cosine_similarity(tfidf_matrix, tfidf_matrix)"
   ]
  },
  {
   "cell_type": "code",
   "execution_count": 15,
   "id": "4e3c0c88",
   "metadata": {},
   "outputs": [],
   "source": [
    "# 6️⃣ Recommendation Function with Fuzzy Matching\n",
    "def recommend_movies(title, df=df, similarity_matrix=cosine_sim, top_n=5):\n",
    "    # Find closest match\n",
    "    all_titles = df['title'].tolist()\n",
    "    matches = difflib.get_close_matches(title, all_titles, n=1, cutoff=0.6)\n",
    "    if not matches:\n",
    "        return f\"❌ Movie '{title}' not found in dataset.\"\n",
    "    \n",
    "    resolved_title = matches[0]\n",
    "    idx = df[df['title'] == resolved_title].index[0]\n",
    "\n",
    "    # Cosine similarity scores\n",
    "    sim_scores = list(enumerate(similarity_matrix[idx]))\n",
    "    sim_scores = sorted(sim_scores, key=lambda x: x[1], reverse=True)\n",
    "\n",
    "    # Exclude the movie itself and get unique recommendations\n",
    "    sim_scores = [s for s in sim_scores if s[0] != idx]\n",
    "    recommendations = []\n",
    "    seen = set()\n",
    "    for i, _ in sim_scores:\n",
    "        t = df['title'].iloc[i]\n",
    "        if t not in seen:\n",
    "            recommendations.append(t)\n",
    "            seen.add(t)\n",
    "        if len(recommendations) >= top_n:\n",
    "            break\n",
    "\n",
    "    return resolved_title, recommendations"
   ]
  },
  {
   "cell_type": "code",
   "execution_count": 16,
   "id": "fdba5502",
   "metadata": {},
   "outputs": [
    {
     "name": "stdout",
     "output_type": "stream",
     "text": [
      "\n",
      "🎬 Movies similar to 'Hostage':\n",
      "👉 Severance\n",
      "👉 Countdown\n",
      "👉 Two Graves\n",
      "👉 Invasion\n",
      "👉 Dept. Q\n"
     ]
    }
   ],
   "source": [
    "import difflib\n",
    "\n",
    "# 7️⃣ Example Usage\n",
    "query = \"Hostage\"\n",
    "resolved_title, recommended = recommend_movies(query, top_n=5)\n",
    "\n",
    "print(f\"\\n🎬 Movies similar to '{resolved_title}':\")\n",
    "for m in recommended:\n",
    "    print(\"👉\", m)"
   ]
  },
  {
   "cell_type": "code",
   "execution_count": 17,
   "id": "9627918b",
   "metadata": {},
   "outputs": [
    {
     "name": "stdout",
     "output_type": "stream",
     "text": [
      "\n",
      "🎬 Movies similar to 'Dexter':\n",
      "👉 Dexter: Resurrection\n",
      "👉 Monster\n",
      "👉 MobLand\n",
      "👉 Thunderbolts*\n",
      "👉 The Terminal List: Dark Wolf\n"
     ]
    }
   ],
   "source": [
    "import difflib\n",
    "\n",
    "# 7️⃣ Example Usage\n",
    "query = \"Dexter\"\n",
    "resolved_title, recommended = recommend_movies(query, top_n=5)\n",
    "\n",
    "print(f\"\\n🎬 Movies similar to '{resolved_title}':\")\n",
    "for m in recommended:\n",
    "    print(\"👉\", m)"
   ]
  },
  {
   "cell_type": "code",
   "execution_count": 18,
   "id": "e1db8942",
   "metadata": {},
   "outputs": [
    {
     "name": "stdout",
     "output_type": "stream",
     "text": [
      "Columns in CSV: Index(['movie name', 'storyline'], dtype='object')\n"
     ]
    }
   ],
   "source": [
    "import pandas as pd\n",
    "\n",
    "df = pd.read_csv(\"imdb_storylines_cleaned.csv\")\n",
    "df.columns = df.columns.str.strip().str.lower()\n",
    "\n",
    "print(\"Columns in CSV:\", df.columns)\n"
   ]
  },
  {
   "cell_type": "code",
   "execution_count": null,
   "id": "6efce8a8-2cde-4191-bd2c-fd796a88dc49",
   "metadata": {},
   "outputs": [],
   "source": []
  }
 ],
 "metadata": {
  "kernelspec": {
   "display_name": "Python 3 (ipykernel)",
   "language": "python",
   "name": "python3"
  },
  "language_info": {
   "codemirror_mode": {
    "name": "ipython",
    "version": 3
   },
   "file_extension": ".py",
   "mimetype": "text/x-python",
   "name": "python",
   "nbconvert_exporter": "python",
   "pygments_lexer": "ipython3",
   "version": "3.12.7"
  }
 },
 "nbformat": 4,
 "nbformat_minor": 5
}
